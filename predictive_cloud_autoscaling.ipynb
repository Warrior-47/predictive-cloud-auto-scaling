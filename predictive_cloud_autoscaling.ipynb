{
 "cells": [
  {
   "cell_type": "markdown",
   "id": "46677a3a",
   "metadata": {},
   "source": [
    "# Predictive Cloud Auto Scaling Based on CPU Load Using Linear Regression"
   ]
  },
  {
   "cell_type": "markdown",
   "id": "23b6b161",
   "metadata": {},
   "source": [
    "### Overview"
   ]
  },
  {
   "cell_type": "markdown",
   "id": "e622bdbf",
   "metadata": {},
   "source": [
    "Cloud based systems have varying load throughout the day. The time of day, the day of the month, the time of year, some or all might play a role in the amount of load being put on the system. Therefore, it is crucial to have the necessary number of servers/virtual machine (VM) instances/Kubernetes pods to ensure service availability and better response times. However, it can hard and tedious to understand what is the appropriate number instances a system should have at a specific time. You also have to consider that having a high number of instances during idle time can drive up cost."
   ]
  },
  {
   "cell_type": "markdown",
   "id": "8711961c",
   "metadata": {},
   "source": [
    "This notebook explores how data driven methods, specifically Linear Regression, can help alleviate this problem using CPU loads and how a system could make decision based on its prediction."
   ]
  },
  {
   "cell_type": "markdown",
   "id": "1f2fa537",
   "metadata": {},
   "source": [
    "We'll simulate a simple environment where:\n",
    "* CPU utilization varies over time.\n",
    "* A linear regression model is trained on historical load data (simulated) to forcast future CPU usage.\n",
    "* Use the forecast to simulate auto scaling using both a reactive and predictive strategies."
   ]
  },
  {
   "cell_type": "markdown",
   "id": "b2256ac4",
   "metadata": {},
   "source": [
    "### Learning Objectives"
   ]
  },
  {
   "cell_type": "markdown",
   "id": "4829ba65",
   "metadata": {},
   "source": [
    "By the end of this notebook, you will:\n",
    "* Understand how linear regression can be applied to CPU utilization time series.\n",
    "* Simulate and compare reactive vs predictive auto scaling strategies.\n",
    "* Identify a common design mistake in scaling logic and how to debug it."
   ]
  }
 ],
 "metadata": {
  "kernelspec": {
   "display_name": "predictive-cloud-auto-scaling-gARDNjzf",
   "language": "python",
   "name": "python3"
  },
  "language_info": {
   "codemirror_mode": {
    "name": "ipython",
    "version": 3
   },
   "file_extension": ".py",
   "mimetype": "text/x-python",
   "name": "python",
   "nbconvert_exporter": "python",
   "pygments_lexer": "ipython3",
   "version": "3.10.11"
  }
 },
 "nbformat": 4,
 "nbformat_minor": 5
}
